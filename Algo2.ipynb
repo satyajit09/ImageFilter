{
 "cells": [
  {
   "cell_type": "code",
   "execution_count": 1,
   "metadata": {},
   "outputs": [],
   "source": [
    "from PIL import Image\n",
    "image = Image.open('saltnpepa.png')\n",
    "image = image.convert('L')"
   ]
  },
  {
   "cell_type": "code",
   "execution_count": 2,
   "metadata": {},
   "outputs": [
    {
     "name": "stdout",
     "output_type": "stream",
     "text": [
      "(320, 428)\n"
     ]
    }
   ],
   "source": [
    "image.show()\n",
    "width, height = image.size\n",
    "print(image.size)\n",
    "gray = Image.new('L', (width, height))"
   ]
  },
  {
   "cell_type": "code",
   "execution_count": 3,
   "metadata": {},
   "outputs": [
    {
     "name": "stdout",
     "output_type": "stream",
     "text": [
      "118\n"
     ]
    }
   ],
   "source": [
    "img = image.load()\n",
    "print(img[0,0])"
   ]
  },
  {
   "cell_type": "code",
   "execution_count": 4,
   "metadata": {},
   "outputs": [],
   "source": [
    "l = 1    \n",
    "def transform(x,y):\n",
    "    \n",
    "    delta = {\n",
    "            0: (x,y-1), \n",
    "            1: (x-1,y), \n",
    "            2: (x+1,y),\n",
    "            3: (x,y+1),\n",
    "            4: (x-1,y-1),\n",
    "            5: (x+1,y-1),\n",
    "            6: (x-1,y+1),\n",
    "            7: (x+1,y+1),\n",
    "            8: (x,y-2),\n",
    "            9: (x-2,y),\n",
    "            10: (x+2,y),\n",
    "            11: (x,y+2),\n",
    "            12: (x-1,y-2),\n",
    "            13: (x+1,y-2),\n",
    "            14: (x-2,y-1),\n",
    "            15: (x+2,y-1),\n",
    "            16: (x-2,y+1),\n",
    "            17: (x+2,y+1),\n",
    "            18: (x-1,y+2),\n",
    "            19: (x+1,y+2),\n",
    "            20: (x-2,y-2),\n",
    "            21: (x+2,y-2),\n",
    "            22: (x-2,y+2),\n",
    "            23: (x+2,y+2)\n",
    "        }\n",
    "    \n",
    "    global l\n",
    "    \n",
    "    if l == 2:\n",
    "        l = 6\n",
    "        img[x,y] = img[delta[l][0],delta[l][1]]\n",
    "        return\n",
    "    else:\n",
    "        l = (l+1)%24\n",
    "    \n",
    "    while(True):\n",
    "        if delta[l][0] in range(0,width) and delta[l][1] in range(0,height):\n",
    "            if img[delta[l][0],delta[l][1]] in range(1,255):\n",
    "                break\n",
    "        l = (l+1)%24\n",
    "    \n",
    "    img[x,y] = img[delta[l][0],delta[l][1]]"
   ]
  },
  {
   "cell_type": "code",
   "execution_count": 5,
   "metadata": {},
   "outputs": [],
   "source": [
    "def deNoise():\n",
    "    for itr in range(5):\n",
    "        for i in range(0,width):\n",
    "            for j in range(0,height):\n",
    "                if img[i,j] == 0 or img[i,j] == 255:\n",
    "                    transform(i,j)"
   ]
  },
  {
   "cell_type": "code",
   "execution_count": 6,
   "metadata": {},
   "outputs": [],
   "source": [
    "for k in range(0,20):\n",
    "    deNoise()"
   ]
  },
  {
   "cell_type": "code",
   "execution_count": 7,
   "metadata": {
    "scrolled": true
   },
   "outputs": [],
   "source": [
    "for i in range(0, width):\n",
    "    for j in range(0, height):\n",
    "        gray.putpixel((i, j), img[i,j])"
   ]
  },
  {
   "cell_type": "code",
   "execution_count": 8,
   "metadata": {},
   "outputs": [],
   "source": [
    "gray.show()"
   ]
  }
 ],
 "metadata": {
  "kernelspec": {
   "display_name": "Python 3",
   "language": "python",
   "name": "python3"
  },
  "language_info": {
   "codemirror_mode": {
    "name": "ipython",
    "version": 3
   },
   "file_extension": ".py",
   "mimetype": "text/x-python",
   "name": "python",
   "nbconvert_exporter": "python",
   "pygments_lexer": "ipython3",
   "version": "3.8.5"
  }
 },
 "nbformat": 4,
 "nbformat_minor": 4
}
